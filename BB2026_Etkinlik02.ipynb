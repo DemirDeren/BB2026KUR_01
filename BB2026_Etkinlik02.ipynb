{
  "nbformat": 4,
  "nbformat_minor": 0,
  "metadata": {
    "colab": {
      "provenance": [],
      "toc_visible": true
    },
    "kernelspec": {
      "name": "python3",
      "display_name": "Python 3"
    },
    "language_info": {
      "name": "python"
    }
  },
  "cells": [
    {
      "cell_type": "markdown",
      "source": [
        "**BB2026Etkinlik02.ipynb**"
      ],
      "metadata": {
        "id": "7XJ4wRwi_mOV"
      }
    },
    {
      "cell_type": "markdown",
      "source": [
        "**Problem**:Kulanıcının seçimine göre Kartezyen koordinat sisteminde kullanıcının vereceği iki nokta arasındaki mesafeyi ya da yine kartezyen koordinat sisteminde  kullanıcın vereceği üç nokta oluşturup oluşturmadığı bilgisini eğer üçgen oluşturuyorsa da bu üçgenin alanının hesaplanması\n",
        "\n",
        "**Girdiler**:Önce yapılacak işlemin seçilmesi girdisi, sonra iki nokta için x ve y değerleri ya da üç nokta için x ve y değerleri\n",
        "**Çıktılar**:KUllanıcının seçimine göre iki nokta arası uzaklık veya üç noktanın üçgen oluşturup oluşturmaması ve eğer oluşturuyorsa üçgenn alanı\n",
        "\n",
        "```\n",
        "# Bu, kod olarak biçimlendirilmiştir\n",
        "```\n",
        "\n"
      ],
      "metadata": {
        "id": "ql0RDPDdAHjt"
      }
    },
    {
      "cell_type": "code",
      "source": [
        "from math import sqrt\n",
        "mesaj = \"Kartezyen Koordinat Sistemi Üzerinde Hesaplamalar\"\n",
        "print(mesaj)\n",
        "print(len(mesaj)*\"*\")\n",
        "kullanicininSecimi = input(\"Doğru parçası uzunluğu için 1 veya Üçgen alanı için 2 giriniz:\")\n",
        "if kullanicininSecimi == '1':\n",
        "  x1 = int(input(\"Birinci noktanın apsis değerini giriniz:\"))\n",
        "  y1 = int(input(\"Birinci noktanın ordinat değerini giriniz:\"))\n",
        "  x2 = int(input(\"İkinci noktanın apsis değerini giriniz:\"))\n",
        "  y2 = int(input(\"İkinci noktanın ordinat değerini giriniz:\"))\n",
        "  ikiNoktaArasiMesafe = sqrt ((x1-x2)**2 + (y1-y2)**2)\n",
        "  print(\"(\",x1,\",\",y1,\") ve (\",x2,\",\",y2,\")\",\"noktaları arasindaki uzaklık:\",ikiNoktaArasiMesafe)\n",
        "elif kullanicininSecimi == '2':\n",
        "  x1 = int(input(\"Birinci noktanın apsis değerini giriniz:\"))\n",
        "  y1 = int(input(\"Birinci noktanın ordinat değerini giriniz:\"))\n",
        "  x2 = int(input(\"İkinci noktanın apsis değerini giriniz:\"))\n",
        "  y2 = int(input(\"İkinci noktanın ordinat değerini giriniz:\"))\n",
        "  x3 = int(input(\"Üçüncü noktanın apsis değerini giriniz:\"))\n",
        "  y3 = int(input(\"Üçüncü noktanın ordinat değerini giriniz:\"))\n",
        "  a = sqrt((x1-x2)**2 + (y1-y2)**2)\n",
        "  b = sqrt((x2-x3)**2 + (y2-y3)**2)\n",
        "  c = sqrt((x3-x1)**2 + (y3-y1)**2)\n",
        "  if a+b>c and a+c>b and b+c>a:\n",
        "    ucgenOlur = True\n",
        "  else:\n",
        "    ucgenOlur = False\n",
        "  if ucgenOlur:\n",
        "    u = (a+b+c)/2\n",
        "    ucNoktaninOlusturduguUcgeninAlani = sqrt(u*(u-a)*(u-b)*(u-c))\n",
        "    print(\")\",x1,\",\",y1,\"), (\",x2,\",\",y2,\") ve (\",x3,\",\",y3,\") noktaları kartezyen koordinat sisteminde üçgen oluşturur.\")\n",
        "    print(\")\",x1,\",\",y1,\"), (\",x2,\",\",y2,\") ve (\",x3,\",\",y3,\") noktalarının oluşturduğu üçgenin alanı:\",ucNoktaninOlusturduguUcgeninAlani)\n",
        "  else:\n",
        "    print(\")\",x1,\",\",y1,\"), (\",x2,\",\",y2,\") ve (\",x3,\",\",y3,\") noktaları kartezyen koordinat sisteminde üçgen oluşturmaz!\")\n",
        "else:\n",
        "    print(\"Hatalı seçim yaptınız ! Program sonlandırılmıştır.\")"
      ],
      "metadata": {
        "colab": {
          "base_uri": "https://localhost:8080/"
        },
        "id": "B9CdFSf70GpQ",
        "outputId": "11e6af9e-4c12-4405-c79e-74c7e347aa71"
      },
      "execution_count": 20,
      "outputs": [
        {
          "output_type": "stream",
          "name": "stdout",
          "text": [
            "Kartezyen Koordinat Sistemi Üzerinde Hesaplamalar\n",
            "*************************************************\n",
            "Doğru parçası uzunluğu için 1 veya Üçgen alanı için 2 giriniz:2\n",
            "Birinci noktanın apsis değerini giriniz:1\n",
            "Birinci noktanın ordinat değerini giriniz:2\n",
            "İkinci noktanın apsis değerini giriniz:3\n",
            "İkinci noktanın ordinat değerini giriniz:4\n",
            "Üçüncü noktanın apsis değerini giriniz:5\n",
            "Üçüncü noktanın ordinat değerini giriniz:6\n",
            ") 1 , 2 ), ( 3 , 4 ) ve ( 5 , 6 ) noktaları kartezyen koordinat sisteminde üçgen oluşturmaz!\n"
          ]
        }
      ]
    }
  ]
}