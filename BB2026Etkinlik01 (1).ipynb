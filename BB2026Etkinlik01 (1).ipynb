{
  "nbformat": 4,
  "nbformat_minor": 0,
  "metadata": {
    "colab": {
      "provenance": []
    },
    "kernelspec": {
      "name": "python3",
      "display_name": "Python 3"
    },
    "language_info": {
      "name": "python"
    }
  },
  "cells": [
    {
      "cell_type": "markdown",
      "source": [
        " **İLK ETKİNLİK PROBLEMİ**:Verilen yarıçapa göre çizilen bir çemberin çevresini veyine aynı yarıçapa göre oluşturulan dairenin alanını hesaplayan Python programının yapılması.\n",
        "\n",
        " **GİRDİLER**:Yarıçap (birimi cm)\n",
        "\n",
        " **ÇIKTILAR**:çemberin çevresi (birimi cm) ve dairenin alanı (birimi cm²)"
      ],
      "metadata": {
        "id": "cSczdFyjf9gq"
      }
    },
    {
      "cell_type": "code",
      "execution_count": null,
      "metadata": {
        "colab": {
          "base_uri": "https://localhost:8080/",
          "height": 252
        },
        "id": "ZjyJbhRZfJHn",
        "outputId": "df405562-b59a-44b6-f68d-3088b67ae95c"
      },
      "outputs": [
        {
          "output_type": "stream",
          "name": "stdout",
          "text": [
            "çemberin veya dairenin yarıçap uzunluğunu cm cinsinden giriniz:15\n",
            "Girilen yarıçap uzunluğuna göre\n"
          ]
        },
        {
          "output_type": "error",
          "ename": "TypeError",
          "evalue": "ignored",
          "traceback": [
            "\u001b[0;31m---------------------------------------------------------------------------\u001b[0m",
            "\u001b[0;31mTypeError\u001b[0m                                 Traceback (most recent call last)",
            "\u001b[0;32m<ipython-input-14-f28f025a4773>\u001b[0m in \u001b[0;36m<module>\u001b[0;34m\u001b[0m\n\u001b[1;32m      2\u001b[0m \u001b[0myaricap\u001b[0m \u001b[0;34m=\u001b[0m \u001b[0minput\u001b[0m\u001b[0;34m(\u001b[0m\u001b[0;34m\"çemberin veya dairenin yarıçap uzunluğunu cm cinsinden giriniz:\"\u001b[0m\u001b[0;34m)\u001b[0m\u001b[0;34m\u001b[0m\u001b[0;34m\u001b[0m\u001b[0m\n\u001b[1;32m      3\u001b[0m \u001b[0mprint\u001b[0m\u001b[0;34m(\u001b[0m\u001b[0;34m\"Girilen yarıçap uzunluğuna göre\"\u001b[0m\u001b[0;34m)\u001b[0m\u001b[0;34m\u001b[0m\u001b[0;34m\u001b[0m\u001b[0m\n\u001b[0;32m----> 4\u001b[0;31m \u001b[0mprint\u001b[0m\u001b[0;34m(\u001b[0m\u001b[0;34m\"Çemberin çevresi\"\u001b[0m\u001b[0;34m,\u001b[0m\u001b[0;36m2\u001b[0m\u001b[0;34m*\u001b[0m\u001b[0mmath\u001b[0m\u001b[0;34m.\u001b[0m\u001b[0mpi\u001b[0m\u001b[0;34m*\u001b[0m\u001b[0myaricap\u001b[0m\u001b[0;34m,\u001b[0m\u001b[0;34m\"cm dir.\"\u001b[0m\u001b[0;34m)\u001b[0m\u001b[0;34m\u001b[0m\u001b[0;34m\u001b[0m\u001b[0m\n\u001b[0m\u001b[1;32m      5\u001b[0m \u001b[0mprint\u001b[0m\u001b[0;34m(\u001b[0m\u001b[0;34m\"Dairenin alanı\"\u001b[0m\u001b[0;34m,\u001b[0m\u001b[0mmath\u001b[0m\u001b[0;34m.\u001b[0m\u001b[0mpi\u001b[0m\u001b[0;34m*\u001b[0m\u001b[0myaricap\u001b[0m\u001b[0;34m*\u001b[0m\u001b[0myaricap\u001b[0m\u001b[0;34m,\u001b[0m\u001b[0;34m\"cm² dir.\"\u001b[0m\u001b[0;34m)\u001b[0m\u001b[0;34m\u001b[0m\u001b[0;34m\u001b[0m\u001b[0m\n",
            "\u001b[0;31mTypeError\u001b[0m: can't multiply sequence by non-int of type 'float'"
          ]
        }
      ],
      "source": [
        "import math \n",
        "yaricap = input(\"çemberin veya dairenin yarıçap uzunluğunu cm cinsinden giriniz:\")\n",
        "print(\"Girilen yarıçap uzunluğuna göre\")\n",
        "print(\"Çemberin çevresi\",2*math.pi*yaricap,\"cm dir.\")\n",
        "print(\"Dairenin alanı\",math.pi*yaricap*yaricap,\"cm² dir.\")"
      ]
    }
  ]
}