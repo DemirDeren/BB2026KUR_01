{
  "nbformat": 4,
  "nbformat_minor": 0,
  "metadata": {
    "colab": {
      "provenance": []
    },
    "kernelspec": {
      "name": "python3",
      "display_name": "Python 3"
    },
    "language_info": {
      "name": "python"
    }
  },
  "cells": [
    {
      "cell_type": "markdown",
      "source": [],
      "metadata": {
        "id": "F_MO0b9PQ-tY"
      }
    },
    {
      "cell_type": "markdown",
      "source": [
        "**Problem**: Kullanıcının seçimine göre  ideal bir gazın verilenler doğrultusunda basınç, hacim, sıcaklık veya mol sayısının hesaplanması.\n",
        "\n",
        "**Girdiler**: İdeal gazın hesaplanması istenilen özelliği(basınç, hacim, sıcaklık veya mol sayısı) ve verilen özellikleri\n",
        "\n",
        "**Çıktılar**:Verilen özellikler doğrultusunda hesaplanan özellik(basınç, hacim, sıcaklık veya mol sayısı)"
      ],
      "metadata": {
        "id": "7PhRIj2TKO-B"
      }
    },
    {
      "cell_type": "code",
      "execution_count": null,
      "metadata": {
        "id": "MaY386RCQ9-8"
      },
      "outputs": [],
      "source": []
    },
    {
      "cell_type": "code",
      "source": [
        "from math import sqrt\n",
        "mesaj = \"İdeal Gaz Yasası\"\n",
        "print(mesaj)\n",
        "print(len(mesaj)*\"-\")\n",
        "message =\"\"\"\n",
        "Basınç için P\n",
        "Hacim için V\n",
        "Sıcaklık için T\n",
        "Mol Sayısı için n\n",
        "\"\"\"\n",
        "print(message)\n",
        "kullanicininSecimi = input(\"Seçiminizi giriniz:\")\n",
        "if kullanicininSecimi == 'V':\n",
        "  AtmP = int(input(\"İdeal gazın basıncını atmosfer cinsinden giriniz:\"))\n",
        "  mol = int(input(\"İdeal gazın mol sayısını mol cinsinden giriniz:\"))\n",
        "  kelvin = int(input(\"İdeal gazın sıcaklığını kelvin cinsinden giriniz:\"))\n",
        "  R=0.082\n",
        "  V=(R*kelvin*mol)/AtmP\n",
        "  print(\"V =\",V)\n",
        "  print(AtmP,\"x\",V,\"=\",mol,\"x\",R,\"x\",kelvin)\n",
        "elif kullanicininSecimi == 'P':\n",
        "  V = int(input(\"İdeal gazın hacmini litre cinsinden giriniz:\"))\n",
        "  mol = int(input(\"İdeal gazın mol sayısını mol cinsinden giriniz:\"))\n",
        "  kelvin = int(input(\"İdeal gazın sıcaklığını kelvin cinsinden giriniz:\"))\n",
        "  R=0.082\n",
        "  AtmP=(R*kelvin*mol)/V\n",
        "  print(\"P =\",AtmP)\n",
        "  print(AtmP,\"x\",V,\"=\",mol,\"x\",R,\"x\",kelvin)\n",
        "elif kullanicininSecimi == 'T':\n",
        "  V = int(input(\"İdeal gazın hacmini litre cinsinden giriniz:\"))\n",
        "  mol = int(input(\"İdeal gazın mol sayısını mol cinsinden giriniz:\"))\n",
        "  AtmP = int(input(\"İdeal gazın basıncını atmosfer cinsinden giriniz:\"))\n",
        "  R=0.082\n",
        "  kelvin=(AtmP*V)/(mol*R)\n",
        "  print(\"T =\",kelvin)\n",
        "  print(AtmP,\"x\",V,\"=\",mol,\"x\",R,\"x\",kelvin)\n",
        "elif kullanicininSecimi == 'n':\n",
        "  V = int(input(\"İdeal gazın hacmini litre cinsinden giriniz:\"))\n",
        "  kelvin = int(input(\"İdeal sıcaklığını kelvin cinsinden giriniz:\"))\n",
        "  AtmP = int(input(\"İdeal gazın basıncını atmosfer cinsinden giriniz:\"))\n",
        "  R=0.082\n",
        "  mol=(AtmP*V)/(kelvin*R)\n",
        "  print(\"n =\",mol)\n",
        "  print(AtmP,\"x\",V,\"=\",mol,\"x\",R,\"x\",kelvin)\n",
        "else:\n",
        "  print(\"Hatalı seçim yaptınız!Program sonlandırılmıştır\")\n",
        "\n",
        "\n",
        "  \n",
        "\n",
        "\n"
      ],
      "metadata": {
        "colab": {
          "base_uri": "https://localhost:8080/"
        },
        "id": "aKLhXIQbPA9F",
        "outputId": "d2d72a10-3192-45c5-edc7-822603cef2b6"
      },
      "execution_count": 12,
      "outputs": [
        {
          "output_type": "stream",
          "name": "stdout",
          "text": [
            "İdeal Gaz Yasası\n",
            "----------------\n",
            "\n",
            "Basınç için P\n",
            "Hacim için V\n",
            "Sıcaklık için T\n",
            "Mol Sayısı için n\n",
            "\n",
            "Seçiminizi giriniz:V\n",
            "İdeal gazın basıncını atmosfer cinsinden giriniz:6\n",
            "İdeal gazın mol sayısını mol cinsinden giriniz:2\n",
            "İdeal gazın sıcaklığını kelvin cinsinden giriniz:300\n",
            "V = 8.200000000000001\n",
            "6 x 8.200000000000001 = 2 x 0.082 x 300\n"
          ]
        }
      ]
    }
  ]
}